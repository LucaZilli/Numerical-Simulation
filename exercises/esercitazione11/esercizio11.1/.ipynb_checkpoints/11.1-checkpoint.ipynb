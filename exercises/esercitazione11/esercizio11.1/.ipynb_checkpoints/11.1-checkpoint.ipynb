{
 "cells": [
  {
   "cell_type": "markdown",
   "metadata": {},
   "source": [
    "### EXCERCISE 11.1\n",
    "\n",
    "This excercise is needed just to take confidential wirh NN and the goal is to optimize the code given at the excercisation.\n",
    "\n",
    "The problem consists to fit in the best way possible the function\n",
    "$$\n",
    "f(x)=2x+1 + \\eta\n",
    "$$where $\\eta$ is an error normal distributed around the training set.\n",
    "\n",
    "The parameter of the code given are $NTrain=100$, $NValid=10$ and $NEpcoch=30$. Using these parameter and a training set with $\\eta=0.5$, it has been obtained an angolar coefficient $m=0.94$ and an intersect $b=0.88$, very far from the values it was wanted to obtain.\n",
    "\n",
    "In the following code have been changed the parameters to see what happen."
   ]
  },
  {
   "cell_type": "code",
   "execution_count": 2,
   "metadata": {},
   "outputs": [],
   "source": [
    "# target parameters of f(x) = m*x + b\n",
    "m = 2 # slope\n",
    "b = 1 # intersect"
   ]
  },
  {
   "cell_type": "code",
   "execution_count": 3,
   "metadata": {},
   "outputs": [],
   "source": [
    "import numpy as np\n",
    "\n",
    "# generate training inputs\n",
    "np.random.seed(0)\n",
    "x_train = np.random.uniform(-1, 1, 100)\n",
    "x_valid = np.random.uniform(-1, 1, 10)\n",
    "x_valid.sort()\n",
    "y_target = m * x_valid + b # ideal (target) linear function\n",
    "\n",
    "sigma = 0.5 # noise standard deviation, for the moment it is absent\n",
    "y_train = np.random.normal(m * x_train + b, sigma) # actual measures from which we want to guess regression parameters\n",
    "y_valid = np.random.normal(m * x_valid + b, sigma)"
   ]
  },
  {
   "cell_type": "code",
   "execution_count": 4,
   "metadata": {},
   "outputs": [
    {
     "data": {
      "image/png": "[encoded data removed]",
      "text/plain": [
       "<Figure size 432x288 with 1 Axes>"
      ]
     },
     "metadata": {
      "needs_background": "light"
     },
     "output_type": "display_data"
    }
   ],
   "source": [
    "# plot training and target dataset\n",
    "import matplotlib.pyplot as plt\n",
    "plt.plot(x_valid, y_target)\n",
    "plt.scatter(x_valid, y_valid, color='r')\n",
    "plt.grid(True); plt.show()"
   ]
  },
  {
   "cell_type": "code",
   "execution_count": 5,
   "metadata": {},
   "outputs": [],
   "source": [
    "# compose the NN model\n",
    "import tensorflow as tf\n",
    "from tensorflow import keras\n",
    "\n",
    "from tensorflow.keras.models import Sequential\n",
    "from tensorflow.keras.layers import Dense, Activation\n",
    "from tensorflow.keras import backend as K\n",
    "from tensorflow.keras.utils import get_custom_objects\n",
    "\n",
    "model = tf.keras.Sequential()\n",
    "model.add(Dense(1, input_shape=(1,)))\n",
    "\n",
    "# compile the model choosing optimizer, loss and metrics objects\n",
    "model.compile(optimizer='sgd', loss='mse', metrics=['mse'])"
   ]
  },
  {
   "cell_type": "code",
   "execution_count": 6,
   "metadata": {},
   "outputs": [
    {
     "name": "stdout",
     "output_type": "stream",
     "text": [
      "Model: \"sequential\"\n",
      "_________________________________________________________________\n",
      "Layer (type)                 Output Shape              Param #   \n",
      "=================================================================\n",
      "dense (Dense)                (None, 1)                 2         \n",
      "=================================================================\n",
      "Total params: 2\n",
      "Trainable params: 2\n",
      "Non-trainable params: 0\n",
      "_________________________________________________________________\n"
     ]
    }
   ],
   "source": [
    "# get a summary of our composed model\n",
    "model.summary()"
   ]
  },
  {
   "cell_type": "code",
   "execution_count": 7,
   "metadata": {},
   "outputs": [
    {
     "name": "stdout",
     "output_type": "stream",
     "text": [
      "Epoch 1/150\n",
      "4/4 [==============================] - 0s 63ms/step - loss: 3.7447 - mse: 3.7447 - val_loss: 3.9924 - val_mse: 3.9924\n",
      "Epoch 2/150\n",
      "4/4 [==============================] - 0s 11ms/step - loss: 3.5543 - mse: 3.5543 - val_loss: 3.6631 - val_mse: 3.6631\n",
      "Epoch 3/150\n",
      "4/4 [==============================] - 0s 11ms/step - loss: 3.3064 - mse: 3.3064 - val_loss: 3.3290 - val_mse: 3.3290\n",
      "Epoch 4/150\n",
      "4/4 [==============================] - 0s 11ms/step - loss: 3.0532 - mse: 3.0532 - val_loss: 3.0952 - val_mse: 3.0952\n",
      "Epoch 5/150\n",
      "4/4 [==============================] - 0s 10ms/step - loss: 2.8694 - mse: 2.8694 - val_loss: 2.8527 - val_mse: 2.8527\n",
      "Epoch 6/150\n",
      "4/4 [==============================] - 0s 12ms/step - loss: 2.6751 - mse: 2.6751 - val_loss: 2.6277 - val_mse: 2.6277\n",
      "Epoch 7/150\n",
      "4/4 [==============================] - 0s 10ms/step - loss: 2.5013 - mse: 2.5013 - val_loss: 2.5028 - val_mse: 2.5028\n",
      "Epoch 8/150\n",
      "4/4 [==============================] - 0s 10ms/step - loss: 2.3890 - mse: 2.3890 - val_loss: 2.3635 - val_mse: 2.3635\n",
      "Epoch 9/150\n",
      "4/4 [==============================] - 0s 10ms/step - loss: 2.2775 - mse: 2.2775 - val_loss: 2.2309 - val_mse: 2.2309\n",
      "Epoch 10/150\n",
      "4/4 [==============================] - 0s 13ms/step - loss: 2.1693 - mse: 2.1693 - val_loss: 2.0719 - val_mse: 2.0719\n",
      "Epoch 11/150\n",
      "4/4 [==============================] - 0s 13ms/step - loss: 2.0389 - mse: 2.0389 - val_loss: 1.9046 - val_mse: 1.9046\n",
      "Epoch 12/150\n",
      "4/4 [==============================] - 0s 15ms/step - loss: 1.9057 - mse: 1.9057 - val_loss: 1.7845 - val_mse: 1.7845\n",
      "Epoch 13/150\n",
      "4/4 [==============================] - 0s 15ms/step - loss: 1.8082 - mse: 1.8082 - val_loss: 1.6860 - val_mse: 1.6860\n",
      "Epoch 14/150\n",
      "4/4 [==============================] - 0s 15ms/step - loss: 1.7233 - mse: 1.7233 - val_loss: 1.5833 - val_mse: 1.5833\n",
      "Epoch 15/150\n",
      "4/4 [==============================] - 0s 18ms/step - loss: 1.6383 - mse: 1.6383 - val_loss: 1.4808 - val_mse: 1.4808\n",
      "Epoch 16/150\n",
      "4/4 [==============================] - 0s 13ms/step - loss: 1.5529 - mse: 1.5529 - val_loss: 1.4082 - val_mse: 1.4082\n",
      "Epoch 17/150\n",
      "4/4 [==============================] - 0s 12ms/step - loss: 1.4845 - mse: 1.4845 - val_loss: 1.3434 - val_mse: 1.3434\n",
      "Epoch 18/150\n",
      "4/4 [==============================] - 0s 15ms/step - loss: 1.4214 - mse: 1.4214 - val_loss: 1.2871 - val_mse: 1.2871\n",
      "Epoch 19/150\n",
      "4/4 [==============================] - 0s 10ms/step - loss: 1.3655 - mse: 1.3655 - val_loss: 1.2135 - val_mse: 1.2135\n",
      "Epoch 20/150\n",
      "4/4 [==============================] - 0s 10ms/step - loss: 1.3030 - mse: 1.3030 - val_loss: 1.1490 - val_mse: 1.1490\n",
      "Epoch 21/150\n",
      "4/4 [==============================] - 0s 11ms/step - loss: 1.2419 - mse: 1.2419 - val_loss: 1.1009 - val_mse: 1.1009\n",
      "Epoch 22/150\n",
      "4/4 [==============================] - 0s 13ms/step - loss: 1.1940 - mse: 1.1940 - val_loss: 1.0453 - val_mse: 1.0453\n",
      "Epoch 23/150\n",
      "4/4 [==============================] - 0s 14ms/step - loss: 1.1413 - mse: 1.1413 - val_loss: 0.9995 - val_mse: 0.9995\n",
      "Epoch 24/150\n",
      "4/4 [==============================] - 0s 15ms/step - loss: 1.0945 - mse: 1.0945 - val_loss: 0.9555 - val_mse: 0.9555\n",
      "Epoch 25/150\n",
      "4/4 [==============================] - 0s 17ms/step - loss: 1.0520 - mse: 1.0520 - val_loss: 0.9118 - val_mse: 0.9118\n",
      "Epoch 26/150\n",
      "4/4 [==============================] - 0s 16ms/step - loss: 1.0081 - mse: 1.0081 - val_loss: 0.8688 - val_mse: 0.8688\n",
      "Epoch 27/150\n",
      "4/4 [==============================] - 0s 16ms/step - loss: 0.9668 - mse: 0.9668 - val_loss: 0.8285 - val_mse: 0.8285\n",
      "Epoch 28/150\n",
      "4/4 [==============================] - 0s 13ms/step - loss: 0.9263 - mse: 0.9263 - val_loss: 0.7864 - val_mse: 0.7864\n",
      "Epoch 29/150\n",
      "4/4 [==============================] - 0s 15ms/step - loss: 0.8877 - mse: 0.8877 - val_loss: 0.7486 - val_mse: 0.7486\n",
      "Epoch 30/150\n",
      "4/4 [==============================] - 0s 13ms/step - loss: 0.8529 - mse: 0.8529 - val_loss: 0.7107 - val_mse: 0.7107\n",
      "Epoch 31/150\n",
      "4/4 [==============================] - 0s 16ms/step - loss: 0.8168 - mse: 0.8168 - val_loss: 0.6805 - val_mse: 0.6805\n",
      "Epoch 32/150\n",
      "4/4 [==============================] - 0s 13ms/step - loss: 0.7881 - mse: 0.7881 - val_loss: 0.6537 - val_mse: 0.6537\n",
      "Epoch 33/150\n",
      "4/4 [==============================] - 0s 11ms/step - loss: 0.7613 - mse: 0.7613 - val_loss: 0.6312 - val_mse: 0.6312\n",
      "Epoch 34/150\n",
      "4/4 [==============================] - 0s 17ms/step - loss: 0.7382 - mse: 0.7382 - val_loss: 0.6040 - val_mse: 0.6040\n",
      "Epoch 35/150\n",
      "4/4 [==============================] - 0s 15ms/step - loss: 0.7103 - mse: 0.7103 - val_loss: 0.5837 - val_mse: 0.5837\n",
      "Epoch 36/150\n",
      "4/4 [==============================] - 0s 15ms/step - loss: 0.6898 - mse: 0.6898 - val_loss: 0.5642 - val_mse: 0.5642\n",
      "Epoch 37/150\n",
      "4/4 [==============================] - 0s 13ms/step - loss: 0.6690 - mse: 0.6690 - val_loss: 0.5435 - val_mse: 0.5435\n",
      "Epoch 38/150\n",
      "4/4 [==============================] - 0s 10ms/step - loss: 0.6456 - mse: 0.6456 - val_loss: 0.5240 - val_mse: 0.5240\n",
      "Epoch 39/150\n",
      "4/4 [==============================] - 0s 9ms/step - loss: 0.6237 - mse: 0.6237 - val_loss: 0.5019 - val_mse: 0.5019\n",
      "Epoch 40/150\n",
      "4/4 [==============================] - 0s 10ms/step - loss: 0.6026 - mse: 0.6026 - val_loss: 0.4797 - val_mse: 0.4797\n",
      "Epoch 41/150\n",
      "4/4 [==============================] - 0s 10ms/step - loss: 0.5795 - mse: 0.5795 - val_loss: 0.4651 - val_mse: 0.4651\n",
      "Epoch 42/150\n",
      "4/4 [==============================] - 0s 12ms/step - loss: 0.5635 - mse: 0.5635 - val_loss: 0.4490 - val_mse: 0.4490\n",
      "Epoch 43/150\n",
      "4/4 [==============================] - 0s 12ms/step - loss: 0.5462 - mse: 0.5462 - val_loss: 0.4361 - val_mse: 0.4361\n",
      "Epoch 44/150\n",
      "4/4 [==============================] - 0s 19ms/step - loss: 0.5322 - mse: 0.5322 - val_loss: 0.4253 - val_mse: 0.4253\n",
      "Epoch 45/150\n",
      "4/4 [==============================] - 0s 15ms/step - loss: 0.5204 - mse: 0.5204 - val_loss: 0.4121 - val_mse: 0.4121\n",
      "Epoch 46/150\n",
      "4/4 [==============================] - 0s 10ms/step - loss: 0.5062 - mse: 0.5062 - val_loss: 0.4006 - val_mse: 0.4006\n",
      "Epoch 47/150\n",
      "4/4 [==============================] - 0s 10ms/step - loss: 0.4941 - mse: 0.4941 - val_loss: 0.3874 - val_mse: 0.3874\n",
      "Epoch 48/150\n",
      "4/4 [==============================] - 0s 10ms/step - loss: 0.4794 - mse: 0.4794 - val_loss: 0.3785 - val_mse: 0.3785\n",
      "Epoch 49/150\n",
      "4/4 [==============================] - 0s 10ms/step - loss: 0.4697 - mse: 0.4697 - val_loss: 0.3684 - val_mse: 0.3684\n",
      "Epoch 50/150\n",
      "4/4 [==============================] - 0s 16ms/step - loss: 0.4580 - mse: 0.4580 - val_loss: 0.3560 - val_mse: 0.3560\n",
      "Epoch 51/150\n",
      "4/4 [==============================] - 0s 18ms/step - loss: 0.4442 - mse: 0.4442 - val_loss: 0.3486 - val_mse: 0.3486\n",
      "Epoch 52/150\n",
      "4/4 [==============================] - 0s 15ms/step - loss: 0.4358 - mse: 0.4358 - val_loss: 0.3396 - val_mse: 0.3396\n",
      "Epoch 53/150\n",
      "4/4 [==============================] - 0s 16ms/step - loss: 0.4255 - mse: 0.4255 - val_loss: 0.3311 - val_mse: 0.3311\n",
      "Epoch 54/150\n",
      "4/4 [==============================] - 0s 18ms/step - loss: 0.4159 - mse: 0.4159 - val_loss: 0.3258 - val_mse: 0.3258\n",
      "Epoch 55/150\n",
      "4/4 [==============================] - 0s 15ms/step - loss: 0.4090 - mse: 0.4090 - val_loss: 0.3180 - val_mse: 0.3180\n",
      "Epoch 56/150\n",
      "4/4 [==============================] - 0s 15ms/step - loss: 0.4005 - mse: 0.4005 - val_loss: 0.3115 - val_mse: 0.3115\n",
      "Epoch 57/150\n",
      "4/4 [==============================] - 0s 14ms/step - loss: 0.3933 - mse: 0.3933 - val_loss: 0.3057 - val_mse: 0.3057\n",
      "Epoch 58/150\n",
      "4/4 [==============================] - 0s 13ms/step - loss: 0.3860 - mse: 0.3860 - val_loss: 0.2973 - val_mse: 0.2973\n",
      "Epoch 59/150\n",
      "4/4 [==============================] - 0s 17ms/step - loss: 0.3770 - mse: 0.3770 - val_loss: 0.2930 - val_mse: 0.2930\n",
      "Epoch 60/150\n",
      "4/4 [==============================] - 0s 13ms/step - loss: 0.3715 - mse: 0.3715 - val_loss: 0.2866 - val_mse: 0.2866\n",
      "Epoch 61/150\n",
      "4/4 [==============================] - 0s 12ms/step - loss: 0.3643 - mse: 0.3643 - val_loss: 0.2819 - val_mse: 0.2819\n",
      "Epoch 62/150\n",
      "4/4 [==============================] - 0s 16ms/step - loss: 0.3586 - mse: 0.3586 - val_loss: 0.2758 - val_mse: 0.2758\n",
      "Epoch 63/150\n"
     ]
    },
    {
     "name": "stdout",
     "output_type": "stream",
     "text": [
      "4/4 [==============================] - 0s 17ms/step - loss: 0.3524 - mse: 0.3524 - val_loss: 0.2716 - val_mse: 0.2716\n",
      "Epoch 64/150\n",
      "4/4 [==============================] - 0s 17ms/step - loss: 0.3475 - mse: 0.3475 - val_loss: 0.2676 - val_mse: 0.2676\n",
      "Epoch 65/150\n",
      "4/4 [==============================] - 0s 14ms/step - loss: 0.3430 - mse: 0.3430 - val_loss: 0.2641 - val_mse: 0.2641\n",
      "Epoch 66/150\n",
      "4/4 [==============================] - 0s 17ms/step - loss: 0.3394 - mse: 0.3394 - val_loss: 0.2585 - val_mse: 0.2585\n",
      "Epoch 67/150\n",
      "4/4 [==============================] - 0s 11ms/step - loss: 0.3340 - mse: 0.3340 - val_loss: 0.2568 - val_mse: 0.2568\n",
      "Epoch 68/150\n",
      "4/4 [==============================] - 0s 10ms/step - loss: 0.3292 - mse: 0.3292 - val_loss: 0.2544 - val_mse: 0.2544\n",
      "Epoch 69/150\n",
      "4/4 [==============================] - 0s 15ms/step - loss: 0.3259 - mse: 0.3259 - val_loss: 0.2523 - val_mse: 0.2523\n",
      "Epoch 70/150\n",
      "4/4 [==============================] - 0s 12ms/step - loss: 0.3218 - mse: 0.3218 - val_loss: 0.2496 - val_mse: 0.2496\n",
      "Epoch 71/150\n",
      "4/4 [==============================] - 0s 10ms/step - loss: 0.3182 - mse: 0.3182 - val_loss: 0.2469 - val_mse: 0.2469\n",
      "Epoch 72/150\n",
      "4/4 [==============================] - 0s 9ms/step - loss: 0.3134 - mse: 0.3134 - val_loss: 0.2460 - val_mse: 0.2460\n",
      "Epoch 73/150\n",
      "4/4 [==============================] - 0s 13ms/step - loss: 0.3111 - mse: 0.3111 - val_loss: 0.2438 - val_mse: 0.2438\n",
      "Epoch 74/150\n",
      "4/4 [==============================] - 0s 12ms/step - loss: 0.3082 - mse: 0.3082 - val_loss: 0.2432 - val_mse: 0.2432\n",
      "Epoch 75/150\n",
      "4/4 [==============================] - 0s 11ms/step - loss: 0.3053 - mse: 0.3053 - val_loss: 0.2410 - val_mse: 0.2410\n",
      "Epoch 76/150\n",
      "4/4 [==============================] - 0s 17ms/step - loss: 0.3022 - mse: 0.3022 - val_loss: 0.2352 - val_mse: 0.2352\n",
      "Epoch 77/150\n",
      "4/4 [==============================] - 0s 20ms/step - loss: 0.2979 - mse: 0.2979 - val_loss: 0.2327 - val_mse: 0.2327\n",
      "Epoch 78/150\n",
      "4/4 [==============================] - 0s 20ms/step - loss: 0.2958 - mse: 0.2958 - val_loss: 0.2310 - val_mse: 0.2310\n",
      "Epoch 79/150\n",
      "4/4 [==============================] - 0s 19ms/step - loss: 0.2944 - mse: 0.2944 - val_loss: 0.2289 - val_mse: 0.2289\n",
      "Epoch 80/150\n",
      "4/4 [==============================] - 0s 18ms/step - loss: 0.2921 - mse: 0.2921 - val_loss: 0.2274 - val_mse: 0.2274\n",
      "Epoch 81/150\n",
      "4/4 [==============================] - 0s 13ms/step - loss: 0.2905 - mse: 0.2905 - val_loss: 0.2271 - val_mse: 0.2271\n",
      "Epoch 82/150\n",
      "4/4 [==============================] - 0s 11ms/step - loss: 0.2892 - mse: 0.2892 - val_loss: 0.2248 - val_mse: 0.2248\n",
      "Epoch 83/150\n",
      "4/4 [==============================] - 0s 17ms/step - loss: 0.2867 - mse: 0.2867 - val_loss: 0.2240 - val_mse: 0.2240\n",
      "Epoch 84/150\n",
      "4/4 [==============================] - 0s 16ms/step - loss: 0.2855 - mse: 0.2855 - val_loss: 0.2208 - val_mse: 0.2208\n",
      "Epoch 85/150\n",
      "4/4 [==============================] - 0s 17ms/step - loss: 0.2835 - mse: 0.2835 - val_loss: 0.2177 - val_mse: 0.2177\n",
      "Epoch 86/150\n",
      "4/4 [==============================] - 0s 16ms/step - loss: 0.2811 - mse: 0.2811 - val_loss: 0.2164 - val_mse: 0.2164\n",
      "Epoch 87/150\n",
      "4/4 [==============================] - 0s 17ms/step - loss: 0.2801 - mse: 0.2801 - val_loss: 0.2149 - val_mse: 0.2149\n",
      "Epoch 88/150\n",
      "4/4 [==============================] - 0s 17ms/step - loss: 0.2789 - mse: 0.2789 - val_loss: 0.2140 - val_mse: 0.2140\n",
      "Epoch 89/150\n",
      "4/4 [==============================] - 0s 14ms/step - loss: 0.2777 - mse: 0.2777 - val_loss: 0.2129 - val_mse: 0.2129\n",
      "Epoch 90/150\n",
      "4/4 [==============================] - 0s 16ms/step - loss: 0.2756 - mse: 0.2756 - val_loss: 0.2127 - val_mse: 0.2127\n",
      "Epoch 91/150\n",
      "4/4 [==============================] - 0s 16ms/step - loss: 0.2743 - mse: 0.2743 - val_loss: 0.2115 - val_mse: 0.2115\n",
      "Epoch 92/150\n",
      "4/4 [==============================] - 0s 15ms/step - loss: 0.2733 - mse: 0.2733 - val_loss: 0.2110 - val_mse: 0.2110\n",
      "Epoch 93/150\n",
      "4/4 [==============================] - 0s 14ms/step - loss: 0.2718 - mse: 0.2718 - val_loss: 0.2131 - val_mse: 0.2131\n",
      "Epoch 94/150\n",
      "4/4 [==============================] - 0s 12ms/step - loss: 0.2698 - mse: 0.2698 - val_loss: 0.2122 - val_mse: 0.2122\n",
      "Epoch 95/150\n",
      "4/4 [==============================] - 0s 12ms/step - loss: 0.2692 - mse: 0.2692 - val_loss: 0.2097 - val_mse: 0.2097\n",
      "Epoch 96/150\n",
      "4/4 [==============================] - 0s 15ms/step - loss: 0.2673 - mse: 0.2673 - val_loss: 0.2066 - val_mse: 0.2066\n",
      "Epoch 97/150\n",
      "4/4 [==============================] - 0s 17ms/step - loss: 0.2661 - mse: 0.2661 - val_loss: 0.2077 - val_mse: 0.2077\n",
      "Epoch 98/150\n",
      "4/4 [==============================] - 0s 14ms/step - loss: 0.2650 - mse: 0.2650 - val_loss: 0.2055 - val_mse: 0.2055\n",
      "Epoch 99/150\n",
      "4/4 [==============================] - 0s 16ms/step - loss: 0.2640 - mse: 0.2640 - val_loss: 0.2049 - val_mse: 0.2049\n",
      "Epoch 100/150\n",
      "4/4 [==============================] - 0s 16ms/step - loss: 0.2627 - mse: 0.2627 - val_loss: 0.2065 - val_mse: 0.2065\n",
      "Epoch 101/150\n",
      "4/4 [==============================] - 0s 16ms/step - loss: 0.2622 - mse: 0.2622 - val_loss: 0.2089 - val_mse: 0.2089\n",
      "Epoch 102/150\n",
      "4/4 [==============================] - 0s 20ms/step - loss: 0.2622 - mse: 0.2622 - val_loss: 0.2041 - val_mse: 0.2041\n",
      "Epoch 103/150\n",
      "4/4 [==============================] - 0s 15ms/step - loss: 0.2606 - mse: 0.2606 - val_loss: 0.2042 - val_mse: 0.2042\n",
      "Epoch 104/150\n",
      "4/4 [==============================] - 0s 13ms/step - loss: 0.2602 - mse: 0.2602 - val_loss: 0.2057 - val_mse: 0.2057\n",
      "Epoch 105/150\n",
      "4/4 [==============================] - 0s 13ms/step - loss: 0.2593 - mse: 0.2593 - val_loss: 0.2063 - val_mse: 0.2063\n",
      "Epoch 106/150\n",
      "4/4 [==============================] - 0s 12ms/step - loss: 0.2592 - mse: 0.2592 - val_loss: 0.2032 - val_mse: 0.2032\n",
      "Epoch 107/150\n",
      "4/4 [==============================] - 0s 13ms/step - loss: 0.2587 - mse: 0.2587 - val_loss: 0.2028 - val_mse: 0.2028\n",
      "Epoch 108/150\n",
      "4/4 [==============================] - 0s 12ms/step - loss: 0.2582 - mse: 0.2582 - val_loss: 0.2030 - val_mse: 0.2030\n",
      "Epoch 109/150\n",
      "4/4 [==============================] - 0s 14ms/step - loss: 0.2577 - mse: 0.2577 - val_loss: 0.2020 - val_mse: 0.2020\n",
      "Epoch 110/150\n",
      "4/4 [==============================] - 0s 12ms/step - loss: 0.2577 - mse: 0.2577 - val_loss: 0.2032 - val_mse: 0.2032\n",
      "Epoch 111/150\n",
      "4/4 [==============================] - 0s 14ms/step - loss: 0.2573 - mse: 0.2573 - val_loss: 0.2031 - val_mse: 0.2031\n",
      "Epoch 112/150\n",
      "4/4 [==============================] - 0s 14ms/step - loss: 0.2565 - mse: 0.2565 - val_loss: 0.2009 - val_mse: 0.2009\n",
      "Epoch 113/150\n",
      "4/4 [==============================] - 0s 12ms/step - loss: 0.2564 - mse: 0.2564 - val_loss: 0.1992 - val_mse: 0.1992\n",
      "Epoch 114/150\n",
      "4/4 [==============================] - 0s 13ms/step - loss: 0.2557 - mse: 0.2557 - val_loss: 0.1984 - val_mse: 0.1984\n",
      "Epoch 115/150\n",
      "4/4 [==============================] - 0s 13ms/step - loss: 0.2556 - mse: 0.2556 - val_loss: 0.1990 - val_mse: 0.1990\n",
      "Epoch 116/150\n",
      "4/4 [==============================] - 0s 11ms/step - loss: 0.2555 - mse: 0.2555 - val_loss: 0.1990 - val_mse: 0.1990\n",
      "Epoch 117/150\n",
      "4/4 [==============================] - 0s 12ms/step - loss: 0.2546 - mse: 0.2546 - val_loss: 0.2002 - val_mse: 0.2002\n",
      "Epoch 118/150\n",
      "4/4 [==============================] - 0s 11ms/step - loss: 0.2541 - mse: 0.2541 - val_loss: 0.1982 - val_mse: 0.1982\n",
      "Epoch 119/150\n",
      "4/4 [==============================] - 0s 11ms/step - loss: 0.2539 - mse: 0.2539 - val_loss: 0.1979 - val_mse: 0.1979\n",
      "Epoch 120/150\n",
      "4/4 [==============================] - 0s 13ms/step - loss: 0.2535 - mse: 0.2535 - val_loss: 0.1985 - val_mse: 0.1985\n",
      "Epoch 121/150\n",
      "4/4 [==============================] - 0s 16ms/step - loss: 0.2532 - mse: 0.2532 - val_loss: 0.2024 - val_mse: 0.2024\n",
      "Epoch 122/150\n",
      "4/4 [==============================] - 0s 12ms/step - loss: 0.2531 - mse: 0.2531 - val_loss: 0.2022 - val_mse: 0.2022\n",
      "Epoch 123/150\n",
      "4/4 [==============================] - 0s 11ms/step - loss: 0.2531 - mse: 0.2531 - val_loss: 0.2023 - val_mse: 0.2023\n",
      "Epoch 124/150\n",
      "4/4 [==============================] - 0s 10ms/step - loss: 0.2527 - mse: 0.2527 - val_loss: 0.2022 - val_mse: 0.2022\n",
      "Epoch 125/150\n"
     ]
    },
    {
     "name": "stdout",
     "output_type": "stream",
     "text": [
      "4/4 [==============================] - 0s 13ms/step - loss: 0.2525 - mse: 0.2525 - val_loss: 0.2032 - val_mse: 0.2032\n",
      "Epoch 126/150\n",
      "4/4 [==============================] - 0s 15ms/step - loss: 0.2522 - mse: 0.2522 - val_loss: 0.2042 - val_mse: 0.2042\n",
      "Epoch 127/150\n",
      "4/4 [==============================] - 0s 16ms/step - loss: 0.2520 - mse: 0.2520 - val_loss: 0.2023 - val_mse: 0.2023\n",
      "Epoch 128/150\n",
      "4/4 [==============================] - 0s 15ms/step - loss: 0.2519 - mse: 0.2519 - val_loss: 0.2027 - val_mse: 0.2027\n",
      "Epoch 129/150\n",
      "4/4 [==============================] - 0s 17ms/step - loss: 0.2519 - mse: 0.2519 - val_loss: 0.2015 - val_mse: 0.2015\n",
      "Epoch 130/150\n",
      "4/4 [==============================] - 0s 17ms/step - loss: 0.2518 - mse: 0.2518 - val_loss: 0.2020 - val_mse: 0.2020\n",
      "Epoch 131/150\n",
      "4/4 [==============================] - 0s 18ms/step - loss: 0.2514 - mse: 0.2514 - val_loss: 0.2028 - val_mse: 0.2028\n",
      "Epoch 132/150\n",
      "4/4 [==============================] - 0s 15ms/step - loss: 0.2514 - mse: 0.2514 - val_loss: 0.2040 - val_mse: 0.2040\n",
      "Epoch 133/150\n",
      "4/4 [==============================] - 0s 14ms/step - loss: 0.2509 - mse: 0.2509 - val_loss: 0.2018 - val_mse: 0.2018\n",
      "Epoch 134/150\n",
      "4/4 [==============================] - 0s 14ms/step - loss: 0.2510 - mse: 0.2510 - val_loss: 0.1987 - val_mse: 0.1987\n",
      "Epoch 135/150\n",
      "4/4 [==============================] - 0s 14ms/step - loss: 0.2509 - mse: 0.2509 - val_loss: 0.2023 - val_mse: 0.2023\n",
      "Epoch 136/150\n",
      "4/4 [==============================] - 0s 13ms/step - loss: 0.2507 - mse: 0.2507 - val_loss: 0.2039 - val_mse: 0.2039\n",
      "Epoch 137/150\n",
      "4/4 [==============================] - 0s 11ms/step - loss: 0.2506 - mse: 0.2506 - val_loss: 0.2059 - val_mse: 0.2059\n",
      "Epoch 138/150\n",
      "4/4 [==============================] - 0s 10ms/step - loss: 0.2506 - mse: 0.2506 - val_loss: 0.2057 - val_mse: 0.2057\n",
      "Epoch 139/150\n",
      "4/4 [==============================] - 0s 10ms/step - loss: 0.2507 - mse: 0.2507 - val_loss: 0.2060 - val_mse: 0.2060\n",
      "Epoch 140/150\n",
      "4/4 [==============================] - 0s 10ms/step - loss: 0.2506 - mse: 0.2506 - val_loss: 0.2051 - val_mse: 0.2051\n",
      "Epoch 141/150\n",
      "4/4 [==============================] - 0s 11ms/step - loss: 0.2505 - mse: 0.2505 - val_loss: 0.2062 - val_mse: 0.2062\n",
      "Epoch 142/150\n",
      "4/4 [==============================] - 0s 10ms/step - loss: 0.2505 - mse: 0.2505 - val_loss: 0.2060 - val_mse: 0.2060\n",
      "Epoch 143/150\n",
      "4/4 [==============================] - 0s 9ms/step - loss: 0.2508 - mse: 0.2508 - val_loss: 0.2028 - val_mse: 0.2028\n",
      "Epoch 144/150\n",
      "4/4 [==============================] - 0s 10ms/step - loss: 0.2500 - mse: 0.2500 - val_loss: 0.2036 - val_mse: 0.2036\n",
      "Epoch 145/150\n",
      "4/4 [==============================] - 0s 9ms/step - loss: 0.2500 - mse: 0.2500 - val_loss: 0.2040 - val_mse: 0.2040\n",
      "Epoch 146/150\n",
      "4/4 [==============================] - 0s 8ms/step - loss: 0.2498 - mse: 0.2498 - val_loss: 0.2033 - val_mse: 0.2033\n",
      "Epoch 147/150\n",
      "4/4 [==============================] - 0s 10ms/step - loss: 0.2496 - mse: 0.2496 - val_loss: 0.2071 - val_mse: 0.2071\n",
      "Epoch 148/150\n",
      "4/4 [==============================] - 0s 12ms/step - loss: 0.2500 - mse: 0.2500 - val_loss: 0.2050 - val_mse: 0.2050\n",
      "Epoch 149/150\n",
      "4/4 [==============================] - 0s 11ms/step - loss: 0.2496 - mse: 0.2496 - val_loss: 0.2054 - val_mse: 0.2054\n",
      "Epoch 150/150\n",
      "4/4 [==============================] - 0s 14ms/step - loss: 0.2497 - mse: 0.2497 - val_loss: 0.2046 - val_mse: 0.2046\n"
     ]
    }
   ],
   "source": [
    "# fit the model using training dataset\n",
    "# over 10 epochs of 32 batch size each\n",
    "# report training progress against validation data\n",
    "history = model.fit(x=x_train, y=y_train, \n",
    "          batch_size=32, epochs=150,\n",
    "          shuffle=True, # a good idea is to shuffle input before at each epoch\n",
    "          validation_data=(x_valid, y_valid))"
   ]
  },
  {
   "cell_type": "code",
   "execution_count": 8,
   "metadata": {},
   "outputs": [
    {
     "data": {
      "text/plain": [
       "[array([[2.0659516]], dtype=float32), array([1.0643227], dtype=float32)]"
      ]
     },
     "execution_count": 8,
     "metadata": {},
     "output_type": "execute_result"
    }
   ],
   "source": [
    "# return weights\n",
    "model.get_weights()"
   ]
  },
  {
   "cell_type": "code",
   "execution_count": 9,
   "metadata": {},
   "outputs": [
    {
     "name": "stdout",
     "output_type": "stream",
     "text": [
      "1/1 [==============================] - 0s 930us/step - loss: 0.2046 - mse: 0.2046\n",
      "\n",
      "Test loss: 0.2045557200908661\n",
      "Test accuracy: 0.2045557200908661\n"
     ]
    }
   ],
   "source": [
    "# evaluate model\n",
    "score = model.evaluate(x_valid, y_valid, batch_size=32, verbose=1)\n",
    "\n",
    "# print performance\n",
    "print()\n",
    "print('Test loss:', score[0])\n",
    "print('Test accuracy:', score[1])"
   ]
  },
  {
   "cell_type": "code",
   "execution_count": 10,
   "metadata": {},
   "outputs": [
    {
     "name": "stdout",
     "output_type": "stream",
     "text": [
      "1/1 [==============================] - 0s 952us/step - loss: 0.0068 - mse: 0.0068\n",
      "\n",
      "Test loss: 0.006761029362678528\n",
      "Test accuracy: 0.006761029362678528\n"
     ]
    }
   ],
   "source": [
    "# evaluate model with the exact curve\n",
    "score = model.evaluate(x_valid, y_target, batch_size=32, verbose=1)\n",
    "\n",
    "# print performance\n",
    "print()\n",
    "print('Test loss:', score[0])\n",
    "print('Test accuracy:', score[1])"
   ]
  },
  {
   "cell_type": "code",
   "execution_count": 11,
   "metadata": {},
   "outputs": [
    {
     "data": {
      "image/png": "[encoded data removed]",
      "text/plain": [
       "<Figure size 432x288 with 1 Axes>"
      ]
     },
     "metadata": {
      "needs_background": "light"
     },
     "output_type": "display_data"
    }
   ],
   "source": [
    "# look into training history\n",
    "# Plot training & validation loss values\n",
    "plt.plot(history.history['loss'])\n",
    "plt.plot(history.history['val_loss'])\n",
    "plt.title('Model loss')\n",
    "plt.ylabel('Loss')\n",
    "plt.xlabel('Epoch')\n",
    "plt.legend(['Train', 'Test'], loc='best')\n",
    "plt.show()"
   ]
  },
  {
   "cell_type": "code",
   "execution_count": 12,
   "metadata": {},
   "outputs": [
    {
     "data": {
      "image/png": "[encoded data removed]",
      "text/plain": [
       "<Figure size 432x288 with 1 Axes>"
      ]
     },
     "metadata": {
      "needs_background": "light"
     },
     "output_type": "display_data"
    }
   ],
   "source": [
    "x_predicted = np.random.uniform(-1, 1, 100)\n",
    "y_predicted = model.predict(x_predicted)\n",
    "plt.scatter(x_predicted, y_predicted,color='r')\n",
    "plt.plot(x_valid, y_target)\n",
    "plt.grid(True)\n",
    "plt.show()"
   ]
  },
  {
   "cell_type": "markdown",
   "metadata": {},
   "source": [
    "Changing only number of training to $NTrain=1000$, the prediction becomes immediately better and it can be obtained the parameters $m$ and $b$ with a precision less than 3%.\n",
    "\n",
    "On the other hand changing only the number on which it is made the prediction to $NValid=100$, it does not bring a lot of benefits and the estimations are obtained obtained with en error of 15%. \n",
    "\n",
    "Changing the number of training to $NTrain=1000$ and the number on which it is made the prediction to $NValid=100$ , it can be reduced even the learning from $NEpoch=30$ to $NEpoch=20$ and still predict the parameters $m$ and $b$ with a precision of the 2%.\n",
    "\n",
    "If a big training set of data is not avaiable it still is possible make a prediction, but the machine needs more time to learn. Has been made a simulation with $NTrain=100$, $NValid=10$ and to get a results with an error of 5% it has been needed an $NEpoch=150$."
   ]
  },
  {
   "cell_type": "code",
   "execution_count": null,
   "metadata": {},
   "outputs": [],
   "source": []
  }
 ],
 "metadata": {
  "kernelspec": {
   "display_name": "Python 3",
   "language": "python",
   "name": "python3"
  },
  "language_info": {
   "codemirror_mode": {
    "name": "ipython",
    "version": 3
   },
   "file_extension": ".py",
   "mimetype": "text/x-python",
   "name": "python",
   "nbconvert_exporter": "python",
   "pygments_lexer": "ipython3",
   "version": "3.6.10"
  }
 },
 "nbformat": 4,
 "nbformat_minor": 4
}
