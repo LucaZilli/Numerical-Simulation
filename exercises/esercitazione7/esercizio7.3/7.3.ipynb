{
 "cells": [
  {
   "cell_type": "code",
   "execution_count": 1,
   "metadata": {},
   "outputs": [],
   "source": [
    "import numpy as np\n",
    "import matplotlib.pyplot as plt"
   ]
  },
  {
   "cell_type": "code",
   "execution_count": 2,
   "metadata": {},
   "outputs": [],
   "source": [
    "ave_g_liquid = np.loadtxt(fname = \"ave_g_liquid_verlet.txt\")\n",
    "err_g_liquid = np.loadtxt(fname = \"err_g_liquid_verlet.txt\")"
   ]
  },
  {
   "cell_type": "code",
   "execution_count": 5,
   "metadata": {},
   "outputs": [
    {
     "data": {
      "image/png": "[encoded data removed]",
      "text/plain": [
       "<Figure size 432x288 with 1 Axes>"
      ]
     },
     "metadata": {
      "needs_background": "light"
     },
     "output_type": "display_data"
    }
   ],
   "source": [
    "npart=108.0\n",
    "rho=0.8\n",
    "vol=npart/rho\n",
    "box=vol**(1./3.)\n",
    "L=box/2.\n",
    "bins = np.linspace(start=0, stop=L, num=100)\n",
    "#print(bins)\n",
    "#print(ave_g_liquid)\n",
    "bins=np.asarray(bins)\n",
    "ave_g_liquid=np.asarray(ave_g_liquid)\n",
    "err_g_liquid=np.asarray(err_g_liquid)\n",
    "\n",
    "#plt.style.use('seaborn-whitegrid')\n",
    "#plt.plot(bins,ave_g_liquid)\n",
    "plt.errorbar(bins,ave_g_liquid,\n",
    "             yerr=err_g_liquid,lw=1,\n",
    "             color='black',ecolor='black', \n",
    "             elinewidth=5)\n",
    "#plt.plot(bins,ave_g_liquid,lw=1)\n",
    "plt.xlabel(f'r*')\n",
    "plt.ylabel('g(r)')\n",
    "plt.grid(True)\n",
    "plt.show()\n",
    "\n"
   ]
  },
  {
   "cell_type": "code",
   "execution_count": null,
   "metadata": {},
   "outputs": [],
   "source": []
  },
  {
   "cell_type": "code",
   "execution_count": null,
   "metadata": {},
   "outputs": [],
   "source": []
  }
 ],
 "metadata": {
  "kernelspec": {
   "display_name": "Python 3",
   "language": "python",
   "name": "python3"
  },
  "language_info": {
   "codemirror_mode": {
    "name": "ipython",
    "version": 3
   },
   "file_extension": ".py",
   "mimetype": "text/x-python",
   "name": "python",
   "nbconvert_exporter": "python",
   "pygments_lexer": "ipython3",
   "version": "3.6.10"
  }
 },
 "nbformat": 4,
 "nbformat_minor": 4
}
